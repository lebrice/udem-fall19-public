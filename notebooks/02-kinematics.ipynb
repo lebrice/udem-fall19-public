{
 "cells": [
  {
   "cell_type": "markdown",
   "metadata": {},
   "source": [
    "# Representations, Kinematics and Dynamics\n",
    "\n",
    "Duckietown exercises for Sept 16th, 2019\n",
    "\n",
    "\n",
    "\n",
    "## 1. Frame manipulation\n",
    "\n",
    "It's emergency time in Duckietown! An earthquake shook the quiet village, and some buildings have fallen on the streets.\n",
    "\n",
    "### A. From robot to map\n",
    "You are the head of operations, and you gave to your Duckiebot a critical recognition mission: identify and place road obstacles on the map.\n",
    "\n",
    "During its mission, your Duckiebot has GPS support, and it knows its own position in the global (map) frame. \n",
    "\n",
    "It encounters its first obstacle when at position  x = 2m and y = 0.4m, and orientation theta = 110 degrees.\n",
    "The obstacle itself is at 30 cm at 30 degrees (anti-clockwise) from the Duckiebot. \n",
    "\n",
    "Where on the map frame should obstacle 1 be placed?\n"
   ]
  },
  {
   "cell_type": "code",
   "execution_count": 1,
   "metadata": {},
   "outputs": [],
   "source": [
    "### Run this cell to initialize the problem\n",
    "import numpy as np\n",
    "import math\n",
    "duckie_pos_g = np.array([2, 0.4])   # Position of Duckiebot in global frame\n",
    "duckie_or_g = 110                   # Orientation of Duckiebot in global frame (degrees)\n",
    "obstacle_dist_to_duckie = 0.3       # Obstacle distance to the Duckiebot\n",
    "obstacle_angle = 30                 # Obstacle angle with respect to Duckiebot\n"
   ]
  },
  {
   "cell_type": "markdown",
   "metadata": {},
   "source": [
    "Write your code here:"
   ]
  },
  {
   "cell_type": "code",
   "execution_count": 2,
   "metadata": {},
   "outputs": [
    {
     "name": "stdout",
     "output_type": "stream",
     "text": [
      "[1.77018667 0.59283628]\n"
     ]
    }
   ],
   "source": [
    "# Your calculations here\n",
    "cos_sin = lambda angle_deg: np.array([np.cos(np.radians(angle_deg)), np.sin(np.radians(angle_deg))])\n",
    "from typing import Tuple\n",
    "import dataclasses\n",
    "from dataclasses import dataclass\n",
    "\n",
    "def R(theta_degrees):\n",
    "    theta = np.radians(theta_degrees)\n",
    "    return np.array([\n",
    "        [np.cos(theta), -np.sin(theta)],\n",
    "        [np.sin(theta), np.cos(theta)]\n",
    "    ])\n",
    "\n",
    "def TR(theta_degrees, Ax, Ay):\n",
    "    theta = np.radians(theta_degrees)\n",
    "    return np.array([\n",
    "        [np.cos(theta), -np.sin(theta), Ax],\n",
    "        [np.sin(theta),  np.cos(theta), Ay],\n",
    "        [0, 0, 1],\n",
    "    ])\n",
    "\n",
    "angle = lambda vector: np.rad2deg(np.arctan2(vector[1],vector[0]))\n",
    "\n",
    "def rotate(v, angle_deg):\n",
    "    return R(angle_deg) @ v\n",
    "\n",
    "PolarCoordinate = Tuple[float, float]\n",
    "\n",
    "def to_polar(vec) -> PolarCoordinate:\n",
    "    return np.linalg.norm(vec), angle(vec)\n",
    "\n",
    "def to_cartesian(mag, angle) -> np.array:\n",
    "    return R(angle) @ np.array([mag, 0])\n",
    "\n",
    "obstacle_pos_from_duckie_g = cos_sin(duckie_or_g + obstacle_angle) * obstacle_dist_to_duckie\n",
    "\n",
    "# obstacle_pos_g = np.array([0, 0])    # Put your answer here instead of 0, 0 (position of obstacle in global frame)\n",
    "obstacle_pos_g = duckie_pos_g + obstacle_pos_from_duckie_g    # Put your answer here instead of 0, 0 (position of obstacle in global frame)\n",
    "\n",
    "print(obstacle_pos_g)\n",
    "with open(\"assignment2/kinematics.txt\", \"w\") as answers_file:\n",
    "    answers_file.write(f\"1.A: {obstacle_pos_g}\\n\")\n"
   ]
  },
  {
   "cell_type": "markdown",
   "metadata": {},
   "source": [
    "Include your answer in a text file in your submission in section 1.A of a text file: **kinematics.txt**"
   ]
  },
  {
   "cell_type": "markdown",
   "metadata": {},
   "source": [
    "### B. From the global frame to the robot's\n",
    "A concerned Duckie citizen calls you: \n",
    "\n",
    "`I can see a piece of roof on the road! It's positioned at x = 4m and y = - 1m!`\n",
    "\n",
    "This is valuable information but, to add it to your map, you need your Duckiebot to verify it. Luckily, your Duckiebot is closeby, at x = 3.5m, y = -1.2m, and oriented at theta = 45 degrees.\n",
    "You need to give a waypoint to your Duckiebot in its robot frame so that it can go and look.\n",
    "\n",
    "In the robot frame, what are the cartesian coordinates of the obstacle described by the concerned Duckie citizen?"
   ]
  },
  {
   "cell_type": "code",
   "execution_count": 3,
   "metadata": {},
   "outputs": [],
   "source": [
    "### Run this cell to initialize the problem\n",
    "\n",
    "duckie_pos_g = np.array([3.5, -1.2])   # Position of Duckiebot in global frame\n",
    "duckie_or_g = 45                       # Orientation of Duckiebot in global frame (degrees)\n",
    "obstacle_pos_g = np.array([4, -1])     # Position of obstacle in global frame"
   ]
  },
  {
   "cell_type": "markdown",
   "metadata": {},
   "source": [
    "Write your code here:"
   ]
  },
  {
   "cell_type": "code",
   "execution_count": 4,
   "metadata": {},
   "outputs": [
    {
     "name": "stdout",
     "output_type": "stream",
     "text": [
      "[ 0.49497475 -0.21213203]\n"
     ]
    }
   ],
   "source": [
    "# Your calculations here\n",
    "duckie_pos_g = np.array([3.5, -1.2])   # Position of Duckiebot in global frame\n",
    "duckie_or_g = 45                       # Orientation of Duckiebot in global frame (degrees)\n",
    "obstacle_pos_g = np.array([4, -1])     # Position of obstacle in global frame\n",
    "\n",
    "duckie_to_obstacle_vec = obstacle_pos_g - duckie_pos_g\n",
    "distance, obstacle_theta_g = to_polar(duckie_to_obstacle_vec)\n",
    "angle_relative_to_robot = obstacle_theta_g - duckie_or_g\n",
    "\n",
    "obstacle_pos_r = to_cartesian(distance, angle_relative_to_robot)\n",
    "print(obstacle_pos_r)\n",
    "# obstacle_pos_r = np.array([0, 0])     # Put your answer here (position of obstacle in robot frame)\n",
    "with open(\"assignment2/kinematics.txt\", \"a\") as answers_file:\n",
    "    answers_file.write(f\"1.B: {obstacle_pos_r}\\n\")"
   ]
  },
  {
   "cell_type": "markdown",
   "metadata": {},
   "source": [
    "Add your answer in section 1.B of **kinematics.txt**."
   ]
  },
  {
   "cell_type": "markdown",
   "metadata": {},
   "source": [
    "## 2. Driving\n",
    "\n",
    "Good job! All the obstacles have been detected and mapped. Now, it's time for phase 2: acting.\n",
    "Before anything, please run the cell below to get stuff working."
   ]
  },
  {
   "cell_type": "code",
   "execution_count": 5,
   "metadata": {},
   "outputs": [
    {
     "name": "stderr",
     "output_type": "stream",
     "text": [
      "INFO:aido-protocols:aido-protocols 5.0.5\n",
      "\u001b[2m21:20:35|\u001b[0mzn\u001b[2m|__init__.py:6|<module>(): \u001b[0m\u001b[32mzn 2.0.3\u001b[0m\n",
      "\u001b[2m21:20:35|\u001b[0mzj\u001b[2m|__init__.py:5|<module>(): \u001b[0m\u001b[32mzj 2.0.4\u001b[0m\n",
      "\u001b[2m21:20:36|\u001b[0mgym-duckietown\u001b[2m|__init__.py:10|<module>(): \u001b[0m\u001b[32mgym-duckietown 2019.0.0\u001b[0m\n",
      "\u001b[32m\u001b[0m\n",
      "\u001b[2m21:20:36|\u001b[0mgym-duckietown\u001b[2m|__init__.py:24|reg_map_env(): \u001b[0m\u001b[32mRegistering gym environment id: Duckietown-small_loop_cw-v0\u001b[0m\n",
      "\u001b[2m21:20:36|\u001b[0mgym-duckietown\u001b[2m|__init__.py:24|reg_map_env(): \u001b[0m\u001b[32mRegistering gym environment id: Duckietown-straight_road-v0\u001b[0m\n",
      "\u001b[2m21:20:36|\u001b[0mgym-duckietown\u001b[2m|__init__.py:24|reg_map_env(): \u001b[0m\u001b[32mRegistering gym environment id: Duckietown-loop_dyn_duckiebots-v0\u001b[0m\n",
      "\u001b[2m21:20:36|\u001b[0mgym-duckietown\u001b[2m|__init__.py:24|reg_map_env(): \u001b[0m\u001b[32mRegistering gym environment id: Duckietown-loop_obstacles-v0\u001b[0m\n",
      "\u001b[2m21:20:36|\u001b[0mgym-duckietown\u001b[2m|__init__.py:24|reg_map_env(): \u001b[0m\u001b[32mRegistering gym environment id: Duckietown-zigzag_dists-v0\u001b[0m\n",
      "\u001b[2m21:20:36|\u001b[0mgym-duckietown\u001b[2m|__init__.py:24|reg_map_env(): \u001b[0m\u001b[32mRegistering gym environment id: Duckietown-udem1-v0\u001b[0m\n",
      "\u001b[2m21:20:36|\u001b[0mgym-duckietown\u001b[2m|__init__.py:24|reg_map_env(): \u001b[0m\u001b[32mRegistering gym environment id: Duckietown-small_loop-v0\u001b[0m\n",
      "\u001b[2m21:20:36|\u001b[0mgym-duckietown\u001b[2m|__init__.py:24|reg_map_env(): \u001b[0m\u001b[32mRegistering gym environment id: Duckietown-loop_empty-v0\u001b[0m\n",
      "\u001b[2m21:20:36|\u001b[0mgym-duckietown\u001b[2m|__init__.py:24|reg_map_env(): \u001b[0m\u001b[32mRegistering gym environment id: Duckietown-loop_pedestrians-v0\u001b[0m\n",
      "\u001b[2m21:20:36|\u001b[0mgym-duckietown\u001b[2m|__init__.py:24|reg_map_env(): \u001b[0m\u001b[32mRegistering gym environment id: Duckietown-4way-v0\u001b[0m\n"
     ]
    }
   ],
   "source": [
    "import os, sys\n",
    "module_path = os.path.abspath(os.path.join('..'))\n",
    "if module_path not in sys.path:\n",
    "    sys.path.append(module_path) \n",
    "    \n",
    "from utils.helpers import plot_poses, drive, calibrate_drive"
   ]
  },
  {
   "cell_type": "markdown",
   "metadata": {},
   "source": [
    "Now that you have run the cell above, you can continue.\n",
    "\n",
    "In order to remove the obstacles that are paralyzing Duckietown, your Duckiebot is equipped with a very special tool that can lift obstacles, but only if it is used in the right direction.\n",
    "What's more, the tool allows you to carry several obstacles at the same time - which is efficient. However, you can only give one command to the wheels between each of them...\n",
    "\n",
    "You send your Duckiebot to gather obstacle 1 at x = -3m, y = 2m and theta = 45 degrees. Obstacle 2 is at x = 0m, y = 2m and theta = -45 degrees. \n",
    "Knowing that you want to join obstacle 2 exactly 10 seconds after having gathered obstacle 1, which commands do you send to the each of the wheels?\n",
    "\n",
    "Write your values in `left_rate` and `right_rate` to test your answer. If it gets to the green arrow, you win!\n"
   ]
  },
  {
   "cell_type": "code",
   "execution_count": 6,
   "metadata": {},
   "outputs": [
    {
     "name": "stdout",
     "output_type": "stream",
     "text": [
      "Goal achieved! Great job!\n"
     ]
    },
    {
     "data": {
      "image/png": "[encoded data removed]",
      "text/plain": [
       "<Figure size 432x288 with 1 Axes>"
      ]
     },
     "metadata": {
      "needs_background": "light"
     },
     "output_type": "display_data"
    }
   ],
   "source": [
    "start_pos = [-3, 2]\n",
    "cur_angle = 45          # angle in degrees\n",
    "cur_pos = start_pos\n",
    "\n",
    "wheel_dist = 0.2         # 0.2 meters of distance between the wheels\n",
    "wheel_radius = 0.03      # radius of the wheels is 0.03 meters (3 cm)\n",
    "\n",
    "dt = 0.1\n",
    "total_timesteps = 100\n",
    "\n",
    "\n",
    "####### Modify here\n",
    "obstacle_pos = [0, 2]\n",
    "obstacle_theta = -45\n",
    "\n",
    "# the curve will trace a quarter-circle!\n",
    "# distance_x^2 = radius^2 + radius^2 (right triangle)\n",
    "# distance_x^2 = 2 * radius^2 \n",
    "# distance_x = sqrt(2) * radius\n",
    "# radius = distance / sqrt(2)\n",
    "distance = 3\n",
    "radius_of_curve = distance / np.sqrt(2)\n",
    "\n",
    "\"\"\"\n",
    "d_theta * (d - L/2) = Vr\n",
    "d_theta * (d + L/2) = Vl\n",
    "\"\"\"\n",
    "angle_difference = cur_angle - obstacle_theta\n",
    "angle_difference_rad = np.deg2rad(angle_difference)\n",
    "total_time = total_timesteps * dt\n",
    "d_theta = angle_difference_rad / total_time\n",
    "# linear velocities:\n",
    "v_r_r = d_theta * (radius_of_curve - wheel_dist/2) \n",
    "v_l_r = d_theta * (radius_of_curve + wheel_dist/2)\n",
    "\n",
    "wheel_circumference = 2 * np.pi * wheel_radius\n",
    "right_rate = v_r_r / wheel_circumference \n",
    "left_rate = v_l_r / wheel_circumference\n",
    "\n",
    "with open(\"assignment2/kinematics.txt\", \"a\") as answers_file:\n",
    "    answers_file.write(f\"2: right_rate: {right_rate}, left rate: {left_rate} \\n\")\n",
    "\n",
    "#######\n",
    "\n",
    "poses = [(cur_pos, cur_angle)]\n",
    "\n",
    "for t in range(total_timesteps):\n",
    "    cur_pos, cur_angle = drive(cur_pos, cur_angle, left_rate, right_rate, wheel_dist, wheel_radius, dt)\n",
    "    poses.append((cur_pos, cur_angle))\n",
    "    \n",
    "    \n",
    "plot_poses(poses, goal = (0, 2, -45))"
   ]
  },
  {
   "cell_type": "markdown",
   "metadata": {},
   "source": [
    "Add your answer in section 2 of **kinematics.txt**."
   ]
  },
  {
   "cell_type": "markdown",
   "metadata": {},
   "source": [
    "## 3. Calibration\n",
    "\n",
    "That went well!\n",
    "But that's because the model we used is a simulation and the robot acts exactly as we tell it to act.\n",
    "In real life... each robot has its own characteristics - for each wheel, the radius and the motor power are slighly different.\n",
    "So we need to calibrate it."
   ]
  },
  {
   "cell_type": "markdown",
   "metadata": {},
   "source": [
    "In this exercise, the wheel radius, and the moter constant, of each wheel is modelled with some noise.\n",
    "Of course, your robot does not know it, and when it tries to go straight forward, it will deviate from its trajectory!\n",
    "\n",
    "To compensate this problem, adjust the gain and the trim so that the robot reaches the goal location in green - which is where it would be if the model was perfect.\n",
    "The exercise is achieved when you get a \"Goal achieved! Great job!\" appearing on your screen!"
   ]
  },
  {
   "cell_type": "code",
   "execution_count": 7,
   "metadata": {},
   "outputs": [
    {
     "name": "stdout",
     "output_type": "stream",
     "text": [
      "Goal achieved! Great job!\n"
     ]
    },
    {
     "data": {
      "image/png": "[encoded data removed]",
      "text/plain": [
       "<Figure size 432x288 with 1 Axes>"
      ]
     },
     "metadata": {
      "needs_background": "light"
     },
     "output_type": "display_data"
    }
   ],
   "source": [
    "# Pick a number, any number!\n",
    "seed = 500\n",
    "\n",
    "# Adjust these!\n",
    "gain = 1.011\n",
    "trim = -0.0313\n",
    "\n",
    "\n",
    "\n",
    "\n",
    "\n",
    "\n",
    "## From here, do not change\n",
    "\n",
    "dt = 0.1\n",
    "total_timesteps = 100\n",
    "\n",
    "start_pos = [0, 0]\n",
    "cur_pos = start_pos\n",
    "cur_angle = 0\n",
    "\n",
    "poses = [(cur_pos, cur_angle)]\n",
    "\n",
    "for t in range(total_timesteps):\n",
    "    cur_pos, cur_angle = calibrate_drive(cur_pos, cur_angle, gain, trim, dt, seed)\n",
    "    poses.append((cur_pos, cur_angle))\n",
    "   \n",
    "plot_poses(poses, goal = (1.885, 0, 0), draw_line=True)"
   ]
  },
  {
   "cell_type": "markdown",
   "metadata": {},
   "source": [
    "## 4. From linear and angular velocity to wheel commands\n",
    "\n",
    "Until know, we have controlled the Duckiebot by sending it commands to control the *wheel velocities*.\n",
    "It is often more practical to directly control the robot with commands of *linear and angular velocities* of the robot.\n",
    "\n",
    "In this exercise, you will be asked to write a function that takes as arguments linear velocity `v` and angular velocity `omega` and returns the corresponding wheel angular speed `V_l` and `V_r`.\n",
    "\n",
    "In your file `notebooks/code/exercise_02_kinematics/vel2wheel.py`, complete function `vel2wheel`. You can assume that the wheels have the same radius and the motors are exactly similar. Therefore, no trim is needed.\n",
    "\n",
    "\n",
    "Setup the exercise by running this code."
   ]
  },
  {
   "cell_type": "code",
   "execution_count": 8,
   "metadata": {},
   "outputs": [],
   "source": [
    "import os, sys\n",
    "module_path = os.path.abspath(os.path.join('..'))\n",
    "if module_path not in sys.path:\n",
    "    sys.path.append(module_path) \n",
    "    \n",
    "from utils.helpers import plot_poses, drive\n",
    "from notebooks.code.exercise_02_kinematics.vel2wheel import vel2wheel"
   ]
  },
  {
   "cell_type": "markdown",
   "metadata": {},
   "source": [
    "\n",
    "To celebrate that Duckietown is now all clean thanks to you, a small parade is organized in Duckietown.\n",
    "To show off your skills, you put a paintbrush on your Duckiebot so that it creates drawings on the ground wherever it goes. You want your robot write on the ground a **D**, first letter of Duckietown. \n",
    "\n",
    "Your painting reserves will last 100 seconds of painting, and your maximal speed is 0.5 meters/seconds. The **D** should be as large as possible knowing that the curved part of the **D** should be a half-circle. \n",
    "\n",
    "Control your robot in the following code using `v` and `omega` to create the best **D** drawing possible."
   ]
  },
  {
   "cell_type": "code",
   "execution_count": 9,
   "metadata": {},
   "outputs": [
    {
     "name": "stdout",
     "output_type": "stream",
     "text": [
      "radius of 'D' is 9.724613241208568 going straight for  388 steps, then turning instantaneously 90 degrees to the right for one timestep, and then doing a curve for  611  steps. Total timesteps:  1000\n"
     ]
    },
    {
     "data": {
      "image/png": "[encoded data removed]",
      "text/plain": [
       "<Figure size 432x288 with 1 Axes>"
      ]
     },
     "metadata": {
      "needs_background": "light"
     },
     "output_type": "display_data"
    }
   ],
   "source": [
    "start_pos = [0, 0]\n",
    "cur_angle = 0          # angle in degrees\n",
    "cur_pos = start_pos\n",
    "\n",
    "wheel_dist = 0.25         # 0.25 meters of distance between the wheels\n",
    "wheel_rad = 0.04      # radius of the wheels is 0.04 meters (4 cm)\n",
    "\n",
    "dt = 0.1\n",
    "total_timesteps = 1000\n",
    "\n",
    "\n",
    "poses = [(cur_pos, cur_angle)]\n",
    "\n",
    "## setup code (before for loop)\n",
    "\n",
    "max_speed = 0.5\n",
    "total_time = total_timesteps * dt\n",
    "max_trace_length = total_time * max_speed\n",
    "\n",
    "# curve_length = (2 + np.pi) * d_radius\n",
    "# hence: d_radius = curve_length / (2 + np.pi)\n",
    "max_radius = max_trace_length / (2 + np.pi)\n",
    "d_radius = max_radius\n",
    "\n",
    "steps_needed_to_trace_straight_line = int(total_timesteps * (2 /(2 + np.pi)))\n",
    "steps_needed_to_trace_curve = int(total_timesteps * (np.pi /(2 + np.pi)))\n",
    "time_needed_to_trace_curve = steps_needed_to_trace_curve * dt\n",
    "\n",
    "end_straight_line = steps_needed_to_trace_straight_line\n",
    "turn_inplace = steps_needed_to_trace_straight_line + 1\n",
    "\n",
    "print(\n",
    "    \"radius of 'D' is\", d_radius,\n",
    "    \"going straight for \", steps_needed_to_trace_straight_line, \"steps,\",\n",
    "    \"then turning instantaneously 90 degrees to the right for one timestep,\",\n",
    "     \"and then doing a curve for \", steps_needed_to_trace_curve, \" steps.\",\n",
    "    \"Total timesteps: \", (steps_needed_to_trace_straight_line + 1 + steps_needed_to_trace_curve)\n",
    ")\n",
    "##\n",
    "\n",
    "for t in range(total_timesteps):\n",
    "    \n",
    "    ### Modify code here depending on t (you can use if statements)\n",
    "   \n",
    "    if t < end_straight_line:\n",
    "        # going straight along the positive X axis\n",
    "        omega = 0\n",
    "        v = max_speed\n",
    "    elif t == end_straight_line:\n",
    "        # turn the duckie to the right 90 degrees\n",
    "        omega = -(np.pi / 2) / dt\n",
    "        v = 0\n",
    "    else:\n",
    "        # move forward, drawing a curve back to the origin\n",
    "        omega = -np.pi / time_needed_to_trace_curve\n",
    "        v = max_speed\n",
    "    \n",
    "    ###\n",
    "#### END FOR\n",
    "\n",
    "    left_rate, right_rate =  vel2wheel(v, omega, wheel_dist, wheel_rad)     #  in turns per second\n",
    "    cur_pos, cur_angle = drive(cur_pos, cur_angle, left_rate, right_rate, wheel_dist, wheel_rad, dt)\n",
    "    poses.append((cur_pos, cur_angle))\n",
    "\n",
    "plot_poses(poses)\n",
    "import matplotlib.pyplot as plt\n",
    "plt.savefig(\"assignment2/kinematics_D_drawing.png\")"
   ]
  },
  {
   "cell_type": "code",
   "execution_count": 10,
   "metadata": {},
   "outputs": [],
   "source": [
    "bob = In[len(In)-2]\n",
    "import pprint\n",
    "start_index = bob.find(\"## setup code (before for loop)\\n\")\n",
    "end_index = bob.find(\"#### END FOR\")\n",
    "code = bob[start_index:end_index]\n",
    "import contextlib\n",
    "with open(\"assignment2/kinematics.txt\", \"a\") as answers_file:\n",
    "    answers_file.write(\"4: Code (before) and in for-loop: \\n\")\n",
    "    with contextlib.redirect_stdout(answers_file):\n",
    "        for line in code.split(\"\\n\"):\n",
    "            print(\"\\t\", line)"
   ]
  },
  {
   "cell_type": "markdown",
   "metadata": {},
   "source": [
    "Include the vel2wheel code in your submission file as **vel2wheel.py**, as well as a screenshot showing the final drawing **kinematics_D_drawing.png** and the associated code in the *for* loop in section 4 of **kinematics.txt**.\n",
    "\n",
    "### Bonus\n",
    "\n",
    "If you want to be more creative and make another drawing, whether it represents a Duckie, a smiley face, or anything else, you are very welcome to add another screenshot and its associated code in **kinematics_bonus_drawing.png** and the associated code in the *for* loop in section 4.Bonus of **kinematics.txt**. It is also valid if you use more than 1000 time steps."
   ]
  },
  {
   "cell_type": "code",
   "execution_count": 11,
   "metadata": {},
   "outputs": [
    {
     "name": "stdout",
     "output_type": "stream",
     "text": [
      "0 turning:  0\n",
      "100 turning:  44.99999999999926\n",
      "200 turning:  89.9999999999983\n",
      "300 turning:  135.00000000000318\n",
      "400 turning:  180.00000000001342\n",
      "500 turning:  225.00000000002365\n",
      "600 turning:  270.00000000001137\n",
      "700 turning:  314.9999999999991\n",
      "Done making petals. Cur angle: 359.9999999999868\n",
      "timesteps left: 200\n"
     ]
    },
    {
     "data": {
      "image/png": "[encoded data removed]",
      "text/plain": [
       "<Figure size 432x288 with 1 Axes>"
      ]
     },
     "metadata": {
      "needs_background": "light"
     },
     "output_type": "display_data"
    }
   ],
   "source": [
    "start_pos = [0, 0]\n",
    "cur_angle = 0          # angle in degrees\n",
    "cur_pos = start_pos\n",
    "\n",
    "wheel_dist = 0.25         # 0.25 meters of distance between the wheels\n",
    "wheel_rad = 0.04      # radius of the wheels is 0.04 meters (4 cm)\n",
    "\n",
    "dt = 0.1\n",
    "total_timesteps = 1000\n",
    "\n",
    "\n",
    "poses = [(cur_pos, cur_angle)]\n",
    "\n",
    "## setup code (before for loop)\n",
    "\n",
    "max_speed = 0.5\n",
    "num_petals = 8\n",
    "timesteps_per_petal = 100\n",
    "num_petals_done = 0\n",
    "\n",
    "petal_timesteps = num_petals * timesteps_per_petal\n",
    "timesteps_left = total_timesteps - petal_timesteps\n",
    "\n",
    "for t in range(total_timesteps):\n",
    "    ### Modify code here depending on t (you can use if statements)\n",
    "    if t < num_petals * timesteps_per_petal:\n",
    "        omega = (2 * np.pi) / (timesteps_per_petal-1) / dt\n",
    "        v = max_speed\n",
    "        if t % timesteps_per_petal == 0:\n",
    "            # turn in-place a bit.\n",
    "            print(t, \"turning: \", cur_angle %(360))\n",
    "            omega = (np.pi / 4) / dt\n",
    "            v = 0\n",
    "    elif num_petals * timesteps_per_petal == t: \n",
    "        # done making 8 petals, turn to face neg Y axis.\n",
    "        print(\"Done making petals. Cur angle:\", cur_angle % 360)\n",
    "        omega = np.deg2rad(-90 - cur_angle) / dt # get to -90 degrees.\n",
    "        v = 0\n",
    "    else:\n",
    "        if (t - num_petals * timesteps_per_petal) % (timesteps_left/3) == 1:\n",
    "            print(\"timesteps left:\", timesteps_left)\n",
    "            omega = np.deg2rad(60) / dt\n",
    "            v = max_speed / 2\n",
    "        else:\n",
    "            omega = 0\n",
    "            v = max_speed\n",
    "    \n",
    "    ###\n",
    "#### END FOR\n",
    "\n",
    "    left_rate, right_rate =  vel2wheel(v, omega, wheel_dist, wheel_rad)     #  in turns per second\n",
    "    cur_pos, cur_angle = drive(cur_pos, cur_angle, left_rate, right_rate, wheel_dist, wheel_rad, dt)\n",
    "    poses.append((cur_pos, cur_angle))\n",
    "plot_poses(poses)\n",
    "import matplotlib.pyplot as plt\n",
    "plt.savefig(\"assignment2/kinematics_bonus_drawing.png\")"
   ]
  },
  {
   "cell_type": "code",
   "execution_count": 12,
   "metadata": {},
   "outputs": [],
   "source": [
    "bob = In[len(In)-2]\n",
    "import pprint\n",
    "start_index = bob.find(\"## setup code (before for loop)\\n\")\n",
    "end_index = bob.find(\"#### END FOR\")\n",
    "code = bob[start_index:end_index]\n",
    "import contextlib\n",
    "with open(\"assignment2/kinematics.txt\", \"a\") as answers_file:\n",
    "    answers_file.write(\"4.Bonus: Code (before) and in for-loop: \\n\")\n",
    "    with contextlib.redirect_stdout(answers_file):\n",
    "        for line in code.split(\"\\n\"):\n",
    "            print(\"\\t\", line)"
   ]
  }
 ],
 "metadata": {
  "kernelspec": {
   "display_name": "Python 3",
   "language": "python",
   "name": "python3"
  },
  "language_info": {
   "codemirror_mode": {
    "name": "ipython",
    "version": 3
   },
   "file_extension": ".py",
   "mimetype": "text/x-python",
   "name": "python",
   "nbconvert_exporter": "python",
   "pygments_lexer": "ipython3",
   "version": "3.6.8"
  }
 },
 "nbformat": 4,
 "nbformat_minor": 2
}
